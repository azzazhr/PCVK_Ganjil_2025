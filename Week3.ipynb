{
  "nbformat": 4,
  "nbformat_minor": 0,
  "metadata": {
    "colab": {
      "provenance": [],
      "authorship_tag": "ABX9TyNkjkN93GuXknkM8s2cujps",
      "include_colab_link": true
    },
    "kernelspec": {
      "name": "python3",
      "display_name": "Python 3"
    },
    "language_info": {
      "name": "python"
    }
  },
  "cells": [
    {
      "cell_type": "markdown",
      "metadata": {
        "id": "view-in-github",
        "colab_type": "text"
      },
      "source": [
        "<a href=\"https://colab.research.google.com/github/azzazhr/PCVK_Ganjil_2025/blob/main/Week3.ipynb\" target=\"_parent\"><img src=\"https://colab.research.google.com/assets/colab-badge.svg\" alt=\"Open In Colab\"/></a>"
      ]
    },
    {
      "cell_type": "markdown",
      "source": [
        "**Nama : Azzahra Attaqina**\n",
        "\n",
        "**NIM : 2341720224**\n",
        "\n",
        "**Kelas : TI-3B**"
      ],
      "metadata": {
        "id": "KCfa4D81Oq0D"
      }
    },
    {
      "cell_type": "markdown",
      "source": [
        "**MODUL 3 PCVK**"
      ],
      "metadata": {
        "id": "61spzmTsOvoz"
      }
    },
    {
      "cell_type": "code",
      "source": [
        "from google.colab import drive\n",
        "\n",
        "#Accessing My Google Drive\n",
        "drive.mount('/content/drive')"
      ],
      "metadata": {
        "colab": {
          "base_uri": "https://localhost:8080/"
        },
        "id": "_Hz_x9P3PD-5",
        "outputId": "a24b9698-efa1-4fc4-bb57-9fb05687d4b4"
      },
      "execution_count": 5,
      "outputs": [
        {
          "output_type": "stream",
          "name": "stdout",
          "text": [
            "Drive already mounted at /content/drive; to attempt to forcibly remount, call drive.mount(\"/content/drive\", force_remount=True).\n"
          ]
        }
      ]
    },
    {
      "cell_type": "code",
      "source": [
        "import cv2 as cv\n",
        "import numpy as np\n",
        "from google.colab.patches import cv2_imshow\n",
        "\n",
        "print(' Mengubah tingkat kecerahan citra ')\n",
        "print('----------------------------------')\n",
        "\n",
        "try:\n",
        "    brightness = int(input('Masukkan nilai kecerahan: '))\n",
        "except ValueError:\n",
        "    print('Error, not a number')\n",
        "    brightness = 0  # default\n",
        "\n",
        "# Baca citra asli\n",
        "original = cv.imread('/content/drive/MyDrive/PCVK_MM/Images/female.jpg')\n",
        "\n",
        "# Membuat array kosong dengan ukuran dan tipe data sama\n",
        "brightness_image = np.zeros(original.shape, original.dtype)\n",
        "\n",
        "# Mengubah kecerahan per piksel\n",
        "for y in range(original.shape[0]):\n",
        "    for x in range(original.shape[1]):\n",
        "        for c in range(original.shape[2]):\n",
        "            brightness_image[y,x,c] = np.clip(original[y,x,c] + brightness, 0, 255)\n",
        "\n",
        "# Alternatif cara cepat:\n",
        "# brightness_image = cv.convertScaleAbs(original, beta=brightness)\n",
        "\n",
        "# Menggabungkan citra asli dan citra hasil\n",
        "final_frame = cv.hconcat([original, brightness_image])\n",
        "\n",
        "# Tampilkan di Colab\n",
        "cv2_imshow(final_frame)\n",
        ""
      ],
      "metadata": {
        "colab": {
          "base_uri": "https://localhost:8080/"
        },
        "id": "uD_NFG7mPZb6",
        "outputId": "cd293b50-5283-46fc-f135-f7bd0f3bd0ed"
      },
      "execution_count": null,
      "outputs": [
        {
          "metadata": {
            "tags": null
          },
          "name": "stdout",
          "output_type": "stream",
          "text": [
            " Mengubah tingkat kecerahan citra \n",
            "----------------------------------\n"
          ]
        }
      ]
    }
  ]
}