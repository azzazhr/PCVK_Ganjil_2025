{
  "nbformat": 4,
  "nbformat_minor": 0,
  "metadata": {
    "colab": {
      "provenance": [],
      "authorship_tag": "ABX9TyN0nSDNfIY6HhUOUAAxjcw/",
      "include_colab_link": true
    },
    "kernelspec": {
      "name": "python3",
      "display_name": "Python 3"
    },
    "language_info": {
      "name": "python"
    }
  },
  "cells": [
    {
      "cell_type": "markdown",
      "metadata": {
        "id": "view-in-github",
        "colab_type": "text"
      },
      "source": [
        "<a href=\"https://colab.research.google.com/github/azzazhr/PCVK_Ganjil_2025/blob/main/Week11.ipynb\" target=\"_parent\"><img src=\"https://colab.research.google.com/assets/colab-badge.svg\" alt=\"Open In Colab\"/></a>"
      ]
    },
    {
      "cell_type": "markdown",
      "source": [
        "**Nama : Azzahra Attaqina**\n",
        "\n",
        "**NIM : 2341720224**\n",
        "\n",
        "**Kelas : TI-3B**"
      ],
      "metadata": {
        "id": "uivo1eu91vQs"
      }
    },
    {
      "cell_type": "markdown",
      "source": [
        "**MODUL 11 PCVK (TUGAS PRAKTIKUM)**"
      ],
      "metadata": {
        "id": "N7R7cSmY1wCj"
      }
    },
    {
      "cell_type": "markdown",
      "source": [
        "**1. Buka https://colab.research.google.com/. Setelah dipastikan bahwa google Colab\n",
        "terhubung dengan Github Anda, buat notebook baru dan beri nama “Week11.ipynb”.\n",
        "Kemudian import beberapa library dan akses folder yang ada di Drive Anda dengan\n",
        "cara sebagai berikut.**"
      ],
      "metadata": {
        "id": "cFLm9HOv10VK"
      }
    },
    {
      "cell_type": "markdown",
      "source": [],
      "metadata": {
        "id": "G3_u2Alw2GOt"
      }
    }
  ]
}