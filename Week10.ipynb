{
  "nbformat": 4,
  "nbformat_minor": 0,
  "metadata": {
    "colab": {
      "provenance": [],
      "authorship_tag": "ABX9TyOPLA+nvnS9ny0n+pTXXGo/",
      "include_colab_link": true
    },
    "kernelspec": {
      "name": "python3",
      "display_name": "Python 3"
    },
    "language_info": {
      "name": "python"
    }
  },
  "cells": [
    {
      "cell_type": "markdown",
      "metadata": {
        "id": "view-in-github",
        "colab_type": "text"
      },
      "source": [
        "<a href=\"https://colab.research.google.com/github/azzazhr/PCVK_Ganjil_2025/blob/main/Week10.ipynb\" target=\"_parent\"><img src=\"https://colab.research.google.com/assets/colab-badge.svg\" alt=\"Open In Colab\"/></a>"
      ]
    },
    {
      "cell_type": "markdown",
      "source": [
        "**Nama : Azzahra Attaqina**\n",
        "\n",
        "**NIM : 2341720224**\n",
        "\n",
        "**Kelas : TI-3B**"
      ],
      "metadata": {
        "id": "KJdGF1sLAIpb"
      }
    },
    {
      "cell_type": "markdown",
      "source": [
        "**MODUL 10 PCVK (TUGAS PRAKTIKUM)**"
      ],
      "metadata": {
        "id": "sFerIhkHAJ0O"
      }
    },
    {
      "cell_type": "markdown",
      "source": [],
      "metadata": {
        "id": "qBw0mrozAN6K"
      }
    }
  ]
}