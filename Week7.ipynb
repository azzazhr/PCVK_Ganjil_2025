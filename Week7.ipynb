{
  "nbformat": 4,
  "nbformat_minor": 0,
  "metadata": {
    "colab": {
      "provenance": [],
      "authorship_tag": "ABX9TyNyAzY+YG7muAB09BcuN7+V",
      "include_colab_link": true
    },
    "kernelspec": {
      "name": "python3",
      "display_name": "Python 3"
    },
    "language_info": {
      "name": "python"
    }
  },
  "cells": [
    {
      "cell_type": "markdown",
      "metadata": {
        "id": "view-in-github",
        "colab_type": "text"
      },
      "source": [
        "<a href=\"https://colab.research.google.com/github/azzazhr/PCVK_Ganjil_2025/blob/main/Week7.ipynb\" target=\"_parent\"><img src=\"https://colab.research.google.com/assets/colab-badge.svg\" alt=\"Open In Colab\"/></a>"
      ]
    },
    {
      "cell_type": "markdown",
      "source": [
        "**Nama : Azzahra Attaqina**\n",
        "\n",
        "**NIM : 2341720224**\n",
        "\n",
        "**Kelas : TI-3B**"
      ],
      "metadata": {
        "id": "Dz3nfg3veDSU"
      }
    },
    {
      "cell_type": "markdown",
      "source": [
        "**MODUL 7 PCVK (TUGAS PRAKTIKUM)**"
      ],
      "metadata": {
        "id": "9Gb-vDNTeD9N"
      }
    }
  ]
}